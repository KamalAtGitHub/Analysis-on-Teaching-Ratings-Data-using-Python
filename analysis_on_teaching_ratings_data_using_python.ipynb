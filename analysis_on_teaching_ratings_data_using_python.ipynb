{
  "metadata": {
    "kernelspec": {
      "name": "python",
      "display_name": "Python (Pyodide)",
      "language": "python"
    },
    "language_info": {
      "codemirror_mode": {
        "name": "python",
        "version": 3
      },
      "file_extension": ".py",
      "mimetype": "text/x-python",
      "name": "python",
      "nbconvert_exporter": "python",
      "pygments_lexer": "ipython3",
      "version": "3.8"
    }
  },
  "nbformat_minor": 4,
  "nbformat": 4,
  "cells": [
    {
      "cell_type": "markdown",
      "source": "# ANALYSIS ON TEACHING RATINGS DATA USING PYTHON\n\n### I have used the teaching evaluation data from the University of Texas. The dataset comprises of 463 courses, in which we have information about the teaching evaluation score received by the instructor. We have information about the attributes of the instructor, as well as the characteristics of the course.\n\n### In this project, I have answered various questions to gain insights on  how factors like minority, age, gender, beauty, nativity, tenure, etc., affects the evaluation of teaching.",
      "metadata": {}
    },
    {
      "cell_type": "markdown",
      "source": "## DATA DESCRIPTION\n\n| Variable    | Description                                                                                                                                          |\n| ----------- | ---------------------------------------------------------------------------------------------------------------------------------------------------- |\n| minority    | Does the instructor belong to a minority (non-Caucasian) group?                                                                                      |\n| age         | The professor's age                                                                                                                                  |\n| gender      | Indicating whether the instructor was male or female.                                                                                                |\n| credits     | Is the course a single-credit elective?                                                                                                              |\n| beauty      | Rating of the instructor's physical appearance by a panel of six students averaged across the six panelists and standardized to have a mean of zero. |\n| eval        | Course overall teaching evaluation score, on a scale of 1 (very unsatisfactory) to 5 (excellent).                                                    |\n| division    | Is the course an upper or lower division course?                                                                                                     |\n| native      | Is the instructor a native English speaker?                                                                                                          |\n| tenure      | Is the instructor on a tenure track?                                                                                                                 |\n| students    | Number of students that participated in the evaluation.                                                                                              |\n| allstudents | Number of students enrolled in the course.                                                                                                           |\n| prof        | Indicating instructor identifier.                                                                                                                    |\n",
      "metadata": {}
    },
    {
      "cell_type": "markdown",
      "source": "## IMPORT LIBRARIES\n",
      "metadata": {}
    },
    {
      "cell_type": "code",
      "source": "import numpy as np\nimport pandas as pd\nimport scipy.stats\nimport statsmodels.api as sm",
      "metadata": {
        "trusted": true
      },
      "outputs": [],
      "execution_count": 1
    },
    {
      "cell_type": "code",
      "source": "ratings_df=pd.read_csv('teaching_ratings.csv')",
      "metadata": {
        "trusted": true
      },
      "outputs": [],
      "execution_count": 2
    },
    {
      "cell_type": "markdown",
      "source": "## DESCRIPTIVE STATISTICS",
      "metadata": {}
    },
    {
      "cell_type": "markdown",
      "source": "### Question 1: Calculate the percentage of visible minorities are tenure professors. Will you say that tenure status differed if teacher was a visible minority?\n",
      "metadata": {}
    },
    {
      "cell_type": "code",
      "source": "ratings_df1=ratings_df[ratings_df['tenure']=='yes']\n\ntenure_count = ratings_df1.groupby('minority').agg({'tenure': 'count'}).reset_index()\n\ntenure_count['percentage'] = 100 * tenure_count.tenure/tenure_count.tenure.sum()\n\nprint(tenure_count)",
      "metadata": {
        "trusted": true
      },
      "outputs": [
        {
          "execution_count": 3,
          "output_type": "execute_result",
          "data": {
            "text/plain": "minority  tenure  percentage\n0       no     307   85.041551\n1      yes      54   14.958449\n"
          },
          "metadata": {}
        }
      ],
      "execution_count": 3
    },
    {
      "cell_type": "markdown",
      "source": "### Question 2: Does average age differ by tenure? Produce the means and standard deviations for both tenured and untenured professors.\n",
      "metadata": {}
    },
    {
      "cell_type": "code",
      "source": "result = ratings_df.groupby('tenure').agg({'age':['mean', 'std']}).reset_index()\nprint(result)",
      "metadata": {
        "trusted": true
      },
      "outputs": [
        {
          "execution_count": 4,
          "output_type": "execute_result",
          "data": {
            "text/plain": "tenure        age           \n               mean        std\n0     no  50.186275   6.946372\n1    yes  47.850416  10.420056\n"
          },
          "metadata": {}
        }
      ],
      "execution_count": 4
    },
    {
      "cell_type": "markdown",
      "source": "## PROBABILITY DISTRIBUTION",
      "metadata": {}
    },
    {
      "cell_type": "markdown",
      "source": "### Question 1: What is the probability of receiving an evaluation score greater than 3.3?\n",
      "metadata": {}
    },
    {
      "cell_type": "code",
      "source": "eval_mean = round(ratings_df['eval'].mean(), 3)\neval_sd = round(ratings_df['eval'].std(), 3)\n\nprob_less_than = scipy.stats.norm.cdf((3.3 - eval_mean)/eval_sd)\nprint(1 - prob_less_than)",
      "metadata": {
        "trusted": true
      },
      "outputs": [
        {
          "execution_count": 5,
          "output_type": "execute_result",
          "data": {
            "text/plain": "0.8957422041794154\n"
          },
          "metadata": {}
        }
      ],
      "execution_count": 5
    },
    {
      "cell_type": "markdown",
      "source": "### Question 2: What is the probability of receiving an evaluation score between 2 and 3?\n",
      "metadata": {}
    },
    {
      "cell_type": "code",
      "source": "x1 = 2\nprob_less_than_2 = scipy.stats.norm.cdf((x1 - eval_mean)/eval_sd)\nprint(prob_less_than_2)\n\nx2 = 3\nprob_less_than_3 = scipy.stats.norm.cdf((x2 - eval_mean)/eval_sd)\nprint(prob_less_than_3)\n##Percentage\nround((prob_less_than_3 - prob_less_than_2)*100, 1)",
      "metadata": {
        "trusted": true
      },
      "outputs": [
        {
          "execution_count": 6,
          "output_type": "execute_result",
          "data": {
            "text/plain": "0.00015910859015753364\n0.03607280250262359\n3.6\n"
          },
          "metadata": {}
        }
      ],
      "execution_count": 6
    },
    {
      "cell_type": "markdown",
      "source": "## HYPOTHESIS TESTING",
      "metadata": {}
    },
    {
      "cell_type": "markdown",
      "source": "### 1) T-TEST",
      "metadata": {}
    },
    {
      "cell_type": "markdown",
      "source": "### Question 1: Does tenure affect teaching evaluation scores?\n\n*   Use α = 0.05\n",
      "metadata": {}
    },
    {
      "cell_type": "code",
      "source": "scipy.stats.ttest_ind(ratings_df[ratings_df['tenure'] == 'yes']['eval'],\n                   ratings_df[ratings_df['tenure'] == 'no']['eval'], equal_var = True)\n## The p-value is less than 0.05 that means that - we will reject the null hypothesis as there evidence that being tenured affects teaching evaluation scores",
      "metadata": {
        "trusted": true
      },
      "outputs": [
        {
          "execution_count": 7,
          "output_type": "execute_result",
          "data": {
            "text/plain": "TtestResult(statistic=-2.8046798258451777, pvalue=0.005249471210198792, df=461.0)"
          },
          "metadata": {}
        }
      ],
      "execution_count": 7
    },
    {
      "cell_type": "markdown",
      "source": "### 2) CHI-SQUARE TEST",
      "metadata": {}
    },
    {
      "cell_type": "markdown",
      "source": "### Question 2: Is there an association between age and tenure?\n\n*   Discretize the age into three groups 40 years and youngers, between 40 and 57 years, 57 years and older.\n*   What is the conclusion at α = 0.01 and α = 0.05?\n",
      "metadata": {}
    },
    {
      "cell_type": "code",
      "source": "ratings_df.loc[(ratings_df['age'] <= 40), 'age_group'] = '40 years and younger'\nratings_df.loc[(ratings_df['age'] > 40)&(ratings_df['age'] < 57), 'age_group'] = 'between 40 and 57 years'\nratings_df.loc[(ratings_df['age'] >= 57), 'age_group'] = '57 years and older'\n\n## Null Hypothesis: There is no association between age and tenure\n## Alternative Hypothesis: There is an association between age and tenure\n\ncont_table  = pd.crosstab(ratings_df['tenure'], ratings_df['age_group'])\n\nscipy.stats.chi2_contingency(cont_table)\n## At the α = 0.01, p-value is greater, we fail to reject null hypothesis as there is no evidence of an association between age and tenure\n## At the α = 0.05, p-value is less, we reject null hypoothesis as there is evidence of an association between age and tenure",
      "metadata": {
        "trusted": true
      },
      "outputs": [
        {
          "execution_count": 8,
          "output_type": "execute_result",
          "data": {
            "text/plain": "Chi2ContingencyResult(statistic=8.749576239010711, pvalue=0.012590809706820843, dof=2, expected_freq=array([[ 24.89416847,  26.87688985,  50.22894168],\n       [ 88.10583153,  95.12311015, 177.77105832]]))"
          },
          "metadata": {}
        }
      ],
      "execution_count": 8
    },
    {
      "cell_type": "markdown",
      "source": "### 3) ANALYSIS ON VARIANCE (ANOVA)",
      "metadata": {}
    },
    {
      "cell_type": "markdown",
      "source": "### Question 3: Test for equality of variance for beauty scores between tenured and non-tenured instructors\n\n*   Use α = 0.05\n",
      "metadata": {}
    },
    {
      "cell_type": "code",
      "source": "scipy.stats.levene(ratings_df[ratings_df['tenure'] == 'yes']['beauty'],\n                   ratings_df[ratings_df['tenure'] == 'no']['beauty'], \n                   center='mean')\n## Since the p-value is greater than 0.05, we will assume equality of variance of both groups",
      "metadata": {
        "trusted": true
      },
      "outputs": [
        {
          "execution_count": 9,
          "output_type": "execute_result",
          "data": {
            "text/plain": "LeveneResult(statistic=0.4884241652750426, pvalue=0.4849835158609811)"
          },
          "metadata": {}
        }
      ],
      "execution_count": 9
    },
    {
      "cell_type": "markdown",
      "source": "## REGRESSION ANALYSIS",
      "metadata": {}
    },
    {
      "cell_type": "markdown",
      "source": "### Question 1: Does tenure affect beauty scores?\n* Use α = 0.05\n",
      "metadata": {}
    },
    {
      "cell_type": "code",
      "source": "## Null Hypothesis: Mean beauty scores for tenured and non-tenured instructors are equal\n## Alternative Hypothesis: There is a difference in mean beauty scores for tenured and non-tenured instructors\n\nX = ratings_df['tenured_prof']\ny = ratings_df['beauty']\n\nX = sm.add_constant(X) \n\nmodel = sm.OLS(y, X).fit()\npredictions = model.predict(X)\n\n# Print out the statistics\nmodel.summary()\n## p-value is greater than 0.05, so we fail to reject the null hypothesis as there is no evidence that the mean difference of tenured and untenured instructors are different",
      "metadata": {
        "trusted": true
      },
      "outputs": [
        {
          "execution_count": 10,
          "output_type": "execute_result",
          "data": {
            "text/plain": "<class 'statsmodels.iolib.summary.Summary'>\n\"\"\"\n                            OLS Regression Results                            \n==============================================================================\nDep. Variable:                 beauty   R-squared:                       0.000\nModel:                            OLS   Adj. R-squared:                 -0.002\nMethod:                 Least Squares   F-statistic:                    0.1689\nDate:                Fri, 07 Mar 2025   Prob (F-statistic):              0.681\nTime:                        19:22:12   Log-Likelihood:                -546.45\nNo. Observations:                 463   AIC:                             1097.\nDf Residuals:                     461   BIC:                             1105.\nDf Model:                           1                                         \nCovariance Type:            nonrobust                                         \n================================================================================\n                   coef    std err          t      P>|t|      [0.025      0.975]\n--------------------------------------------------------------------------------\nconst            0.0284      0.078      0.363      0.717      -0.125       0.182\ntenured_prof    -0.0364      0.089     -0.411      0.681      -0.210       0.138\n==============================================================================\nOmnibus:                       23.184   Durbin-Watson:                   0.461\nProb(Omnibus):                  0.000   Jarque-Bera (JB):               23.229\nSkew:                           0.507   Prob(JB):                     9.03e-06\nKurtosis:                       2.583   Cond. No.                         4.05\n==============================================================================\n\nNotes:\n[1] Standard Errors assume that the covariance matrix of the errors is correctly specified.\n\"\"\"",
            "text/html": "<table class=\"simpletable\">\n<caption>OLS Regression Results</caption>\n<tr>\n  <th>Dep. Variable:</th>         <td>beauty</td>      <th>  R-squared:         </th> <td>   0.000</td>\n</tr>\n<tr>\n  <th>Model:</th>                   <td>OLS</td>       <th>  Adj. R-squared:    </th> <td>  -0.002</td>\n</tr>\n<tr>\n  <th>Method:</th>             <td>Least Squares</td>  <th>  F-statistic:       </th> <td>  0.1689</td>\n</tr>\n<tr>\n  <th>Date:</th>             <td>Fri, 07 Mar 2025</td> <th>  Prob (F-statistic):</th>  <td> 0.681</td> \n</tr>\n<tr>\n  <th>Time:</th>                 <td>19:22:12</td>     <th>  Log-Likelihood:    </th> <td> -546.45</td>\n</tr>\n<tr>\n  <th>No. Observations:</th>      <td>   463</td>      <th>  AIC:               </th> <td>   1097.</td>\n</tr>\n<tr>\n  <th>Df Residuals:</th>          <td>   461</td>      <th>  BIC:               </th> <td>   1105.</td>\n</tr>\n<tr>\n  <th>Df Model:</th>              <td>     1</td>      <th>                     </th>     <td> </td>   \n</tr>\n<tr>\n  <th>Covariance Type:</th>      <td>nonrobust</td>    <th>                     </th>     <td> </td>   \n</tr>\n</table>\n<table class=\"simpletable\">\n<tr>\n        <td></td>          <th>coef</th>     <th>std err</th>      <th>t</th>      <th>P>|t|</th>  <th>[0.025</th>    <th>0.975]</th>  \n</tr>\n<tr>\n  <th>const</th>        <td>    0.0284</td> <td>    0.078</td> <td>    0.363</td> <td> 0.717</td> <td>   -0.125</td> <td>    0.182</td>\n</tr>\n<tr>\n  <th>tenured_prof</th> <td>   -0.0364</td> <td>    0.089</td> <td>   -0.411</td> <td> 0.681</td> <td>   -0.210</td> <td>    0.138</td>\n</tr>\n</table>\n<table class=\"simpletable\">\n<tr>\n  <th>Omnibus:</th>       <td>23.184</td> <th>  Durbin-Watson:     </th> <td>   0.461</td>\n</tr>\n<tr>\n  <th>Prob(Omnibus):</th> <td> 0.000</td> <th>  Jarque-Bera (JB):  </th> <td>  23.229</td>\n</tr>\n<tr>\n  <th>Skew:</th>          <td> 0.507</td> <th>  Prob(JB):          </th> <td>9.03e-06</td>\n</tr>\n<tr>\n  <th>Kurtosis:</th>      <td> 2.583</td> <th>  Cond. No.          </th> <td>    4.05</td>\n</tr>\n</table><br/><br/>Notes:<br/>[1] Standard Errors assume that the covariance matrix of the errors is correctly specified.",
            "text/latex": "\\begin{center}\n\\begin{tabular}{lclc}\n\\toprule\n\\textbf{Dep. Variable:}    &      beauty      & \\textbf{  R-squared:         } &     0.000   \\\\\n\\textbf{Model:}            &       OLS        & \\textbf{  Adj. R-squared:    } &    -0.002   \\\\\n\\textbf{Method:}           &  Least Squares   & \\textbf{  F-statistic:       } &    0.1689   \\\\\n\\textbf{Date:}             & Fri, 07 Mar 2025 & \\textbf{  Prob (F-statistic):} &    0.681    \\\\\n\\textbf{Time:}             &     19:22:12     & \\textbf{  Log-Likelihood:    } &   -546.45   \\\\\n\\textbf{No. Observations:} &         463      & \\textbf{  AIC:               } &     1097.   \\\\\n\\textbf{Df Residuals:}     &         461      & \\textbf{  BIC:               } &     1105.   \\\\\n\\textbf{Df Model:}         &           1      & \\textbf{                     } &             \\\\\n\\textbf{Covariance Type:}  &    nonrobust     & \\textbf{                     } &             \\\\\n\\bottomrule\n\\end{tabular}\n\\begin{tabular}{lcccccc}\n                       & \\textbf{coef} & \\textbf{std err} & \\textbf{t} & \\textbf{P$> |$t$|$} & \\textbf{[0.025} & \\textbf{0.975]}  \\\\\n\\midrule\n\\textbf{const}         &       0.0284  &        0.078     &     0.363  &         0.717        &       -0.125    &        0.182     \\\\\n\\textbf{tenured\\_prof} &      -0.0364  &        0.089     &    -0.411  &         0.681        &       -0.210    &        0.138     \\\\\n\\bottomrule\n\\end{tabular}\n\\begin{tabular}{lclc}\n\\textbf{Omnibus:}       & 23.184 & \\textbf{  Durbin-Watson:     } &    0.461  \\\\\n\\textbf{Prob(Omnibus):} &  0.000 & \\textbf{  Jarque-Bera (JB):  } &   23.229  \\\\\n\\textbf{Skew:}          &  0.507 & \\textbf{  Prob(JB):          } & 9.03e-06  \\\\\n\\textbf{Kurtosis:}      &  2.583 & \\textbf{  Cond. No.          } &     4.05  \\\\\n\\bottomrule\n\\end{tabular}\n%\\caption{OLS Regression Results}\n\\end{center}\n\nNotes: \\newline\n [1] Standard Errors assume that the covariance matrix of the errors is correctly specified."
          },
          "metadata": {}
        }
      ],
      "execution_count": 10
    },
    {
      "cell_type": "markdown",
      "source": "### Question 2: Does being an English speaker affect the number of students assigned to professors? \n* Use \"allstudents\"\n* Use α = 0.05 and α = 0.1 \n",
      "metadata": {}
    },
    {
      "cell_type": "code",
      "source": "## Null Hypothesis: Mean number of students assigned to native English speakers vs non-native English speakers are equal\n## Alternative Hypothesis: There is a difference in mean number of students assigned to native English speakers vs non-native English speakers\n\nX = ratings_df['English_speaker']\ny = ratings_df['allstudents']\n\nX = sm.add_constant(X) \n\nmodel = sm.OLS(y, X).fit()\npredictions = model.predict(X)\n\nmodel.summary()\n\n## At α = 0.05, p-value is greater, we fail to reject the null hypothesis as there is no evidence that being a native English speaker or a non-native English speaker affects the number of students assigned to an instructor.\n## At α = 0.1, p-value is less, we reject the null hypothesis as there is evidence that there is a significant difference of mean number of students assigned to native English speakers vs non-native English speakers.",
      "metadata": {
        "trusted": true
      },
      "outputs": [
        {
          "execution_count": 11,
          "output_type": "execute_result",
          "data": {
            "text/plain": "<class 'statsmodels.iolib.summary.Summary'>\n\"\"\"\n                            OLS Regression Results                            \n==============================================================================\nDep. Variable:            allstudents   R-squared:                       0.007\nModel:                            OLS   Adj. R-squared:                  0.005\nMethod:                 Least Squares   F-statistic:                     3.476\nDate:                Fri, 07 Mar 2025   Prob (F-statistic):             0.0629\nTime:                        19:23:42   Log-Likelihood:                -2654.2\nNo. Observations:                 463   AIC:                             5312.\nDf Residuals:                     461   BIC:                             5321.\nDf Model:                           1                                         \nCovariance Type:            nonrobust                                         \n===================================================================================\n                      coef    std err          t      P>|t|      [0.025      0.975]\n-----------------------------------------------------------------------------------\nconst              29.6071     14.150      2.092      0.037       1.802      57.413\nEnglish_speaker    27.2158     14.598      1.864      0.063      -1.471      55.902\n==============================================================================\nOmnibus:                      429.792   Durbin-Watson:                   0.708\nProb(Omnibus):                  0.000   Jarque-Bera (JB):            10527.126\nSkew:                           4.129   Prob(JB):                         0.00\nKurtosis:                      24.852   Cond. No.                         8.01\n==============================================================================\n\nNotes:\n[1] Standard Errors assume that the covariance matrix of the errors is correctly specified.\n\"\"\"",
            "text/html": "<table class=\"simpletable\">\n<caption>OLS Regression Results</caption>\n<tr>\n  <th>Dep. Variable:</th>       <td>allstudents</td>   <th>  R-squared:         </th> <td>   0.007</td>\n</tr>\n<tr>\n  <th>Model:</th>                   <td>OLS</td>       <th>  Adj. R-squared:    </th> <td>   0.005</td>\n</tr>\n<tr>\n  <th>Method:</th>             <td>Least Squares</td>  <th>  F-statistic:       </th> <td>   3.476</td>\n</tr>\n<tr>\n  <th>Date:</th>             <td>Fri, 07 Mar 2025</td> <th>  Prob (F-statistic):</th>  <td>0.0629</td> \n</tr>\n<tr>\n  <th>Time:</th>                 <td>19:23:42</td>     <th>  Log-Likelihood:    </th> <td> -2654.2</td>\n</tr>\n<tr>\n  <th>No. Observations:</th>      <td>   463</td>      <th>  AIC:               </th> <td>   5312.</td>\n</tr>\n<tr>\n  <th>Df Residuals:</th>          <td>   461</td>      <th>  BIC:               </th> <td>   5321.</td>\n</tr>\n<tr>\n  <th>Df Model:</th>              <td>     1</td>      <th>                     </th>     <td> </td>   \n</tr>\n<tr>\n  <th>Covariance Type:</th>      <td>nonrobust</td>    <th>                     </th>     <td> </td>   \n</tr>\n</table>\n<table class=\"simpletable\">\n<tr>\n         <td></td>            <th>coef</th>     <th>std err</th>      <th>t</th>      <th>P>|t|</th>  <th>[0.025</th>    <th>0.975]</th>  \n</tr>\n<tr>\n  <th>const</th>           <td>   29.6071</td> <td>   14.150</td> <td>    2.092</td> <td> 0.037</td> <td>    1.802</td> <td>   57.413</td>\n</tr>\n<tr>\n  <th>English_speaker</th> <td>   27.2158</td> <td>   14.598</td> <td>    1.864</td> <td> 0.063</td> <td>   -1.471</td> <td>   55.902</td>\n</tr>\n</table>\n<table class=\"simpletable\">\n<tr>\n  <th>Omnibus:</th>       <td>429.792</td> <th>  Durbin-Watson:     </th> <td>   0.708</td> \n</tr>\n<tr>\n  <th>Prob(Omnibus):</th> <td> 0.000</td>  <th>  Jarque-Bera (JB):  </th> <td>10527.126</td>\n</tr>\n<tr>\n  <th>Skew:</th>          <td> 4.129</td>  <th>  Prob(JB):          </th> <td>    0.00</td> \n</tr>\n<tr>\n  <th>Kurtosis:</th>      <td>24.852</td>  <th>  Cond. No.          </th> <td>    8.01</td> \n</tr>\n</table><br/><br/>Notes:<br/>[1] Standard Errors assume that the covariance matrix of the errors is correctly specified.",
            "text/latex": "\\begin{center}\n\\begin{tabular}{lclc}\n\\toprule\n\\textbf{Dep. Variable:}    &   allstudents    & \\textbf{  R-squared:         } &     0.007   \\\\\n\\textbf{Model:}            &       OLS        & \\textbf{  Adj. R-squared:    } &     0.005   \\\\\n\\textbf{Method:}           &  Least Squares   & \\textbf{  F-statistic:       } &     3.476   \\\\\n\\textbf{Date:}             & Fri, 07 Mar 2025 & \\textbf{  Prob (F-statistic):} &   0.0629    \\\\\n\\textbf{Time:}             &     19:23:42     & \\textbf{  Log-Likelihood:    } &   -2654.2   \\\\\n\\textbf{No. Observations:} &         463      & \\textbf{  AIC:               } &     5312.   \\\\\n\\textbf{Df Residuals:}     &         461      & \\textbf{  BIC:               } &     5321.   \\\\\n\\textbf{Df Model:}         &           1      & \\textbf{                     } &             \\\\\n\\textbf{Covariance Type:}  &    nonrobust     & \\textbf{                     } &             \\\\\n\\bottomrule\n\\end{tabular}\n\\begin{tabular}{lcccccc}\n                          & \\textbf{coef} & \\textbf{std err} & \\textbf{t} & \\textbf{P$> |$t$|$} & \\textbf{[0.025} & \\textbf{0.975]}  \\\\\n\\midrule\n\\textbf{const}            &      29.6071  &       14.150     &     2.092  &         0.037        &        1.802    &       57.413     \\\\\n\\textbf{English\\_speaker} &      27.2158  &       14.598     &     1.864  &         0.063        &       -1.471    &       55.902     \\\\\n\\bottomrule\n\\end{tabular}\n\\begin{tabular}{lclc}\n\\textbf{Omnibus:}       & 429.792 & \\textbf{  Durbin-Watson:     } &     0.708  \\\\\n\\textbf{Prob(Omnibus):} &   0.000 & \\textbf{  Jarque-Bera (JB):  } & 10527.126  \\\\\n\\textbf{Skew:}          &   4.129 & \\textbf{  Prob(JB):          } &      0.00  \\\\\n\\textbf{Kurtosis:}      &  24.852 & \\textbf{  Cond. No.          } &      8.01  \\\\\n\\bottomrule\n\\end{tabular}\n%\\caption{OLS Regression Results}\n\\end{center}\n\nNotes: \\newline\n [1] Standard Errors assume that the covariance matrix of the errors is correctly specified."
          },
          "metadata": {}
        }
      ],
      "execution_count": 11
    },
    {
      "cell_type": "markdown",
      "source": "### Question 3: What is the correlation between the number of students who participated in the evaluation survey and evaluation scores?\n* Use \"students\" variable\n",
      "metadata": {}
    },
    {
      "cell_type": "code",
      "source": "X = ratings_df['students']\ny = ratings_df['eval']\n\nX = sm.add_constant(X) \n\nmodel = sm.OLS(y, X).fit()\npredictions = model.predict(X)\n\nmodel.summary()\n\n## R-square is 0.001, R will be √0.001, correlation coefficient is 0.03 (close to 0). There is a very weak correlation between the number of students who participated in the evaluation survey and evaluation scores",
      "metadata": {
        "trusted": true
      },
      "outputs": [
        {
          "execution_count": 12,
          "output_type": "execute_result",
          "data": {
            "text/plain": "<class 'statsmodels.iolib.summary.Summary'>\n\"\"\"\n                            OLS Regression Results                            \n==============================================================================\nDep. Variable:                   eval   R-squared:                       0.001\nModel:                            OLS   Adj. R-squared:                 -0.001\nMethod:                 Least Squares   F-statistic:                    0.5806\nDate:                Fri, 07 Mar 2025   Prob (F-statistic):              0.446\nTime:                        19:25:07   Log-Likelihood:                -383.46\nNo. Observations:                 463   AIC:                             770.9\nDf Residuals:                     461   BIC:                             779.2\nDf Model:                           1                                         \nCovariance Type:            nonrobust                                         \n==============================================================================\n                 coef    std err          t      P>|t|      [0.025      0.975]\n------------------------------------------------------------------------------\nconst          3.9823      0.033    119.689      0.000       3.917       4.048\nstudents       0.0004      0.001      0.762      0.446      -0.001       0.002\n==============================================================================\nOmnibus:                       15.259   Durbin-Watson:                   1.198\nProb(Omnibus):                  0.000   Jarque-Bera (JB):               16.283\nSkew:                          -0.456   Prob(JB):                     0.000291\nKurtosis:                       2.888   Cond. No.                         74.8\n==============================================================================\n\nNotes:\n[1] Standard Errors assume that the covariance matrix of the errors is correctly specified.\n\"\"\"",
            "text/html": "<table class=\"simpletable\">\n<caption>OLS Regression Results</caption>\n<tr>\n  <th>Dep. Variable:</th>          <td>eval</td>       <th>  R-squared:         </th> <td>   0.001</td>\n</tr>\n<tr>\n  <th>Model:</th>                   <td>OLS</td>       <th>  Adj. R-squared:    </th> <td>  -0.001</td>\n</tr>\n<tr>\n  <th>Method:</th>             <td>Least Squares</td>  <th>  F-statistic:       </th> <td>  0.5806</td>\n</tr>\n<tr>\n  <th>Date:</th>             <td>Fri, 07 Mar 2025</td> <th>  Prob (F-statistic):</th>  <td> 0.446</td> \n</tr>\n<tr>\n  <th>Time:</th>                 <td>19:25:07</td>     <th>  Log-Likelihood:    </th> <td> -383.46</td>\n</tr>\n<tr>\n  <th>No. Observations:</th>      <td>   463</td>      <th>  AIC:               </th> <td>   770.9</td>\n</tr>\n<tr>\n  <th>Df Residuals:</th>          <td>   461</td>      <th>  BIC:               </th> <td>   779.2</td>\n</tr>\n<tr>\n  <th>Df Model:</th>              <td>     1</td>      <th>                     </th>     <td> </td>   \n</tr>\n<tr>\n  <th>Covariance Type:</th>      <td>nonrobust</td>    <th>                     </th>     <td> </td>   \n</tr>\n</table>\n<table class=\"simpletable\">\n<tr>\n      <td></td>        <th>coef</th>     <th>std err</th>      <th>t</th>      <th>P>|t|</th>  <th>[0.025</th>    <th>0.975]</th>  \n</tr>\n<tr>\n  <th>const</th>    <td>    3.9823</td> <td>    0.033</td> <td>  119.689</td> <td> 0.000</td> <td>    3.917</td> <td>    4.048</td>\n</tr>\n<tr>\n  <th>students</th> <td>    0.0004</td> <td>    0.001</td> <td>    0.762</td> <td> 0.446</td> <td>   -0.001</td> <td>    0.002</td>\n</tr>\n</table>\n<table class=\"simpletable\">\n<tr>\n  <th>Omnibus:</th>       <td>15.259</td> <th>  Durbin-Watson:     </th> <td>   1.198</td>\n</tr>\n<tr>\n  <th>Prob(Omnibus):</th> <td> 0.000</td> <th>  Jarque-Bera (JB):  </th> <td>  16.283</td>\n</tr>\n<tr>\n  <th>Skew:</th>          <td>-0.456</td> <th>  Prob(JB):          </th> <td>0.000291</td>\n</tr>\n<tr>\n  <th>Kurtosis:</th>      <td> 2.888</td> <th>  Cond. No.          </th> <td>    74.8</td>\n</tr>\n</table><br/><br/>Notes:<br/>[1] Standard Errors assume that the covariance matrix of the errors is correctly specified.",
            "text/latex": "\\begin{center}\n\\begin{tabular}{lclc}\n\\toprule\n\\textbf{Dep. Variable:}    &       eval       & \\textbf{  R-squared:         } &     0.001   \\\\\n\\textbf{Model:}            &       OLS        & \\textbf{  Adj. R-squared:    } &    -0.001   \\\\\n\\textbf{Method:}           &  Least Squares   & \\textbf{  F-statistic:       } &    0.5806   \\\\\n\\textbf{Date:}             & Fri, 07 Mar 2025 & \\textbf{  Prob (F-statistic):} &    0.446    \\\\\n\\textbf{Time:}             &     19:25:07     & \\textbf{  Log-Likelihood:    } &   -383.46   \\\\\n\\textbf{No. Observations:} &         463      & \\textbf{  AIC:               } &     770.9   \\\\\n\\textbf{Df Residuals:}     &         461      & \\textbf{  BIC:               } &     779.2   \\\\\n\\textbf{Df Model:}         &           1      & \\textbf{                     } &             \\\\\n\\textbf{Covariance Type:}  &    nonrobust     & \\textbf{                     } &             \\\\\n\\bottomrule\n\\end{tabular}\n\\begin{tabular}{lcccccc}\n                  & \\textbf{coef} & \\textbf{std err} & \\textbf{t} & \\textbf{P$> |$t$|$} & \\textbf{[0.025} & \\textbf{0.975]}  \\\\\n\\midrule\n\\textbf{const}    &       3.9823  &        0.033     &   119.689  &         0.000        &        3.917    &        4.048     \\\\\n\\textbf{students} &       0.0004  &        0.001     &     0.762  &         0.446        &       -0.001    &        0.002     \\\\\n\\bottomrule\n\\end{tabular}\n\\begin{tabular}{lclc}\n\\textbf{Omnibus:}       & 15.259 & \\textbf{  Durbin-Watson:     } &    1.198  \\\\\n\\textbf{Prob(Omnibus):} &  0.000 & \\textbf{  Jarque-Bera (JB):  } &   16.283  \\\\\n\\textbf{Skew:}          & -0.456 & \\textbf{  Prob(JB):          } & 0.000291  \\\\\n\\textbf{Kurtosis:}      &  2.888 & \\textbf{  Cond. No.          } &     74.8  \\\\\n\\bottomrule\n\\end{tabular}\n%\\caption{OLS Regression Results}\n\\end{center}\n\nNotes: \\newline\n [1] Standard Errors assume that the covariance matrix of the errors is correctly specified."
          },
          "metadata": {}
        }
      ],
      "execution_count": 12
    }
  ]
}
